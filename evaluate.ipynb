{
 "cells": [
  {
   "cell_type": "code",
   "execution_count": null,
   "metadata": {},
   "outputs": [],
   "source": [
    "from utils.timeSeriesStrategy import TradingStrategy\n",
    "from utils.eval import load_stock_data, evaluate_strategy\n",
    "# 1. 加载数据\n",
    "data_dir = \"./time-series-data\"\n",
    "all_stock_data = load_stock_data(data_dir)\n",
    "stock_pool = list(all_stock_data.keys())\n",
    "\n",
    "# 2. 初始化策略\n",
    "strategy = TradingStrategy(stock_pool)\n",
    "\n",
    "# 3. 手动预处理并训练一次模型（重要！）\n",
    "all_raw_data = {\n",
    "    stock: [[row.Date, row.Open, row.High, row.Low, row.Close, row.Volume, stock]\n",
    "            for _, row in df.iterrows()]\n",
    "    for stock, df in all_stock_data.items()\n",
    "}\n",
    "\n",
    "X_train, X_test, y_train, y_test = strategy.preprocess_data(all_raw_data)\n",
    "strategy._build_model()\n",
    "strategy._train_model(X_train, y_train)\n",
    "\n",
    "# 4. 回测\n",
    "final_value, transaction_log = evaluate_strategy(strategy, all_stock_data)\n",
    " \n",
    "print(f\"初始资金: 1,000,000\")\n",
    "print(f\"最终资产: {final_value:.2f}\")\n",
    "print(f\"收益率: {(final_value-1000000)/1000000*100:.2f}%\")\n"
   ]
  }
 ],
 "metadata": {
  "kernelspec": {
   "display_name": "universal",
   "language": "python",
   "name": "python3"
  },
  "language_info": {
   "codemirror_mode": {
    "name": "ipython",
    "version": 3
   },
   "file_extension": ".py",
   "mimetype": "text/x-python",
   "name": "python",
   "nbconvert_exporter": "python",
   "pygments_lexer": "ipython3",
   "version": "3.13.2"
  }
 },
 "nbformat": 4,
 "nbformat_minor": 2
}

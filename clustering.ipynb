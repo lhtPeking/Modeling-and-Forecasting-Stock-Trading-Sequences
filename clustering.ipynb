{
 "cells": [
  {
   "cell_type": "code",
   "execution_count": null,
   "metadata": {},
   "outputs": [],
   "source": [
    "from sklearn.manifold import TSNE\n",
    "import matplotlib.pyplot as plt\n",
    "from sklearn.cluster import KMeans\n",
    "import networkx as nx\n",
    "from networkx.algorithms import community\n",
    "from dtaidistance import dtw\n",
    "from sklearn.cluster import AgglomerativeClustering\n",
    "import pandas as pd\n",
    "from adjustText import adjust_text\n",
    "\n",
    "from utils.basicFeature import basicFeature\n",
    "from utils.misc import load_static_features\n",
    "from utils.cluster import StaticFeatureKMeansClustering, RollingCorrelationCommunityClustering, DTWClustering\n",
    "\n",
    "import os\n",
    "import glob\n",
    "\n",
    "## t-sne降维与K-means聚类\n",
    "csv_folder = \"./time-series-data/\"\n",
    "csv_path_list = glob.glob(os.path.join(csv_folder, \"*.csv\"))\n",
    "stock_list = [os.path.basename(f).split('_')[0] for f in csv_path_list]\n",
    "\n",
    "static_df = load_static_features(stock_list)\n",
    "\n",
    "clu = StaticFeatureKMeansClustering(static_df, n_clusters=5)\n",
    "clu.fit()\n",
    "clu.plot_pca(title=\"Static Feature KMeans Clustering, K=5\")"
   ]
  },
  {
   "cell_type": "code",
   "execution_count": null,
   "metadata": {},
   "outputs": [],
   "source": [
    "from utils.misc import load_price_panel\n",
    "\n",
    "import os\n",
    "import glob\n",
    "\n",
    "csv_files_list = glob.glob(os.path.join(\"./time-series-data/\", \"*.csv\"))\n",
    "stocks_list = [os.path.basename(f).split('_')[0] for f in csv_files_list]\n",
    "\n",
    "price_df = load_price_panel(stocks_list)\n",
    "clu_2 = RollingCorrelationCommunityClustering(price_df, corr_threshold=0.4)\n",
    "clu_2.fit()\n",
    "clu_2.plot_graph()"
   ]
  }
 ],
 "metadata": {
  "kernelspec": {
   "display_name": "universal",
   "language": "python",
   "name": "python3"
  },
  "language_info": {
   "codemirror_mode": {
    "name": "ipython",
    "version": 3
   },
   "file_extension": ".py",
   "mimetype": "text/x-python",
   "name": "python",
   "nbconvert_exporter": "python",
   "pygments_lexer": "ipython3",
   "version": "3.13.2"
  }
 },
 "nbformat": 4,
 "nbformat_minor": 2
}

{
 "cells": [
  {
   "cell_type": "code",
   "execution_count": null,
   "metadata": {},
   "outputs": [],
   "source": [
    "## 基础特征计算\n",
    "import pandas as pd\n",
    "import glob\n",
    "from utils.basicFeature import basicFeature\n",
    "\n",
    "csv_files = glob.glob(\"./time-series-data/*.csv\")\n",
    "features_list = []\n",
    "for file in csv_files:\n",
    "    # print(file)\n",
    "    features_list.append(basicFeature.integrate_all_features(file))\n",
    "\n",
    "features_df = pd.concat(features_list)\n",
    "print(features_df)\n",
    "    "
   ]
  },
  {
   "cell_type": "code",
   "execution_count": null,
   "metadata": {},
   "outputs": [],
   "source": [
    "## 基础特征可视化与个股分析\n",
    "import matplotlib.pyplot as plt\n",
    "selected = ['AAPL', 'GE', 'MCD', 'AABA', 'NKE', 'WMT']\n",
    "df_sel = features_df.loc[selected]\n",
    "\n",
    "plt.figure(figsize=(8,6))\n",
    "plt.scatter(df_sel['Volatility'], df_sel['AvgReturn'], c='blue', s=100)\n",
    "\n",
    "for i in df_sel.index:\n",
    "    plt.text(df_sel.loc[i, 'Volatility'] + 0.0005, df_sel.loc[i, 'AvgReturn'], i)\n",
    "\n",
    "plt.xlabel(\"Volatility (Risk)\")\n",
    "plt.ylabel(\"Average Daily Return\")\n",
    "plt.title(\"Return vs. Volatility for Selected Stocks\")\n",
    "plt.grid(True)\n",
    "plt.show()"
   ]
  },
  {
   "cell_type": "code",
   "execution_count": null,
   "metadata": {},
   "outputs": [],
   "source": [
    "df_sel['SharpeRatio'].sort_values().plot(kind='barh', figsize=(7,5), color='green')\n",
    "plt.xlabel(\"Sharpe Ratio\")\n",
    "plt.title(\"Sharpe Ratio of Selected Stocks\")\n",
    "plt.grid(True)\n",
    "plt.show()"
   ]
  },
  {
   "cell_type": "code",
   "execution_count": null,
   "metadata": {},
   "outputs": [],
   "source": [
    "plt.figure(figsize=(8,5))\n",
    "df_sel['MDD'].sort_values().plot(kind='barh', color='red')\n",
    "plt.title(\"Max Drawdown of Selected Stocks\")\n",
    "plt.xlabel(\"Max Drawdown\")\n",
    "plt.grid(True)\n",
    "plt.show()"
   ]
  },
  {
   "cell_type": "code",
   "execution_count": null,
   "metadata": {},
   "outputs": [],
   "source": [
    "## 高级指标计算\n",
    "import pandas as pd\n",
    "import glob\n",
    "from utils.advancedFeature import advancedFeature\n",
    "\n",
    "csv_files = glob.glob(\"./time-series-data/*.csv\")\n",
    "advanced_features_list = []\n",
    "for file in csv_files:\n",
    "    # print(file)\n",
    "    advanced_features_list.append(advancedFeature.integrate_advanced_features(file))\n",
    "\n",
    "advanced_features_df = pd.concat(advanced_features_list)\n",
    "print(advanced_features_df)"
   ]
  },
  {
   "cell_type": "code",
   "execution_count": null,
   "metadata": {},
   "outputs": [],
   "source": [
    "## 日利率可视化：以AABA为例\n",
    "df_AABA = advancedFeature.load_data(\"./time-series-data/AABA_2006-01-01_to_2018-01-01.csv\")\n",
    "df_AABA['Return'] = df_AABA['Close'].pct_change()\n",
    "plt.figure(figsize=(6,4))\n",
    "df_AABA['Return'].hist(bins=50, alpha=0.7, color='skyblue')\n",
    "plt.title(\"Daily Return Distribution\")\n",
    "plt.xlabel(\"Daily Return\")\n",
    "plt.ylabel(\"Frequency\")\n",
    "plt.grid(True)\n",
    "plt.tight_layout()\n",
    "plt.show()"
   ]
  },
  {
   "cell_type": "code",
   "execution_count": null,
   "metadata": {},
   "outputs": [],
   "source": [
    "## 布林带可视化：以AABA为例\n",
    "import matplotlib.dates as mdates\n",
    "\n",
    "df_AABA['MA20'] = df_AABA['Close'].rolling(window=20).mean()\n",
    "df_AABA['STD20'] = df_AABA['Close'].rolling(window=20).std()\n",
    "df_AABA['Upper'] = df_AABA['MA20'] + 2 * df_AABA['STD20']\n",
    "df_AABA['Lower'] = df_AABA['MA20'] - 2 * df_AABA['STD20']\n",
    "df_AABA['Date'] = pd.to_datetime(df_AABA['Date'])\n",
    "\n",
    "plt.figure(figsize=(10,5))\n",
    "plt.plot(df_AABA['Date'], df_AABA['Close'], label='Close', color='black', linewidth=1)\n",
    "plt.plot(df_AABA['Date'], df_AABA['MA20'], label='MA20', color='blue')\n",
    "plt.plot(df_AABA['Date'], df_AABA['Upper'], label='Upper Band', linestyle='--', color='red')\n",
    "plt.plot(df_AABA['Date'], df_AABA['Lower'], label='Lower Band', linestyle='--', color='green')\n",
    "plt.fill_between(df_AABA['Date'], df_AABA['Upper'], df_AABA['Lower'], color='orange', alpha=0.3)\n",
    "\n",
    "ax = plt.gca()\n",
    "ax.xaxis.set_major_locator(mdates.YearLocator())\n",
    "ax.xaxis.set_major_formatter(mdates.DateFormatter('%Y'))\n",
    "\n",
    "plt.title(\"Bollinger Bands\")\n",
    "plt.xlabel(\"Date\")\n",
    "plt.ylabel(\"Price\")\n",
    "plt.legend()\n",
    "plt.tight_layout()\n",
    "plt.show()"
   ]
  },
  {
   "cell_type": "code",
   "execution_count": null,
   "metadata": {},
   "outputs": [],
   "source": [
    "## RSI可视化：以AABA为例\n",
    "df = advancedFeature.load_data(\"./time-series-data/AABA_2006-01-01_to_2018-01-01.csv\")\n",
    "delta = df['Close'].diff()\n",
    "gain = delta.clip(lower=0)\n",
    "loss = -delta.clip(upper=0)\n",
    "avg_gain = gain.rolling(window=14).mean()\n",
    "avg_loss = loss.rolling(window=14).mean()\n",
    "rs = avg_gain / avg_loss\n",
    "df['RSI14'] = 100 - (100 / (1 + rs))\n",
    "\n",
    "df['Date'] = pd.to_datetime(df['Date'])\n",
    "\n",
    "plt.figure(figsize=(10,4))\n",
    "plt.plot(df['Date'], df['RSI14'], label='RSI (14)', color='purple')\n",
    "\n",
    "ax = plt.gca()\n",
    "ax.xaxis.set_major_locator(mdates.YearLocator())\n",
    "ax.xaxis.set_major_formatter(mdates.DateFormatter('%Y'))\n",
    "\n",
    "plt.axhline(70, linestyle='--', color='red', label='Overbought')\n",
    "plt.axhline(30, linestyle='--', color='green', label='Oversold')\n",
    "plt.title(\"RSI 14 Indicator\")\n",
    "plt.xlabel(\"Date\")\n",
    "plt.ylabel(\"RSI\")\n",
    "plt.legend()\n",
    "plt.tight_layout()\n",
    "plt.show()"
   ]
  }
 ],
 "metadata": {
  "kernelspec": {
   "display_name": "universal",
   "language": "python",
   "name": "python3"
  },
  "language_info": {
   "codemirror_mode": {
    "name": "ipython",
    "version": 3
   },
   "file_extension": ".py",
   "mimetype": "text/x-python",
   "name": "python",
   "nbconvert_exporter": "python",
   "pygments_lexer": "ipython3",
   "version": "3.13.2"
  }
 },
 "nbformat": 4,
 "nbformat_minor": 2
}

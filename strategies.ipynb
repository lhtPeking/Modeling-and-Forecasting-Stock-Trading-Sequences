{
 "cells": [
  {
   "cell_type": "code",
   "execution_count": null,
   "metadata": {},
   "outputs": [],
   "source": [
    "## 均线交叉策略的实现与可视化\n",
    "import glob\n",
    "from utils.BacktestRunner import BacktestRunner\n",
    "from utils.basicFeature import basicFeature\n",
    "from utils.basicStrategy import dual_ma_strategy, macd_strategy\n",
    "\n",
    "\n",
    "temp = BacktestRunner(dual_ma_strategy, basicFeature.load_data(\"./time-series-data/AABA_2006-01-01_to_2018-01-01.csv\"), short_window=10, long_window=30)\n",
    "temp.run(plot=True)"
   ]
  },
  {
   "cell_type": "code",
   "execution_count": null,
   "metadata": {},
   "outputs": [],
   "source": [
    "## 布林带策略的实现与可视化\n",
    "import glob\n",
    "from utils.BacktestRunner import BacktestRunner\n",
    "from utils.basicFeature import basicFeature\n",
    "from utils.basicStrategy import bollinger_strategy\n",
    "\n",
    "\n",
    "temp = BacktestRunner(bollinger_strategy, basicFeature.load_data(\"./time-series-data/AABA_2006-01-01_to_2018-01-01.csv\"))\n",
    "temp.run(plot=True)"
   ]
  },
  {
   "cell_type": "code",
   "execution_count": null,
   "metadata": {},
   "outputs": [],
   "source": [
    "## 动量策略的实现与可视化\n",
    "import glob\n",
    "from utils.BacktestRunner import BacktestRunner\n",
    "from utils.basicFeature import basicFeature\n",
    "from utils.basicStrategy import momentum_topN_strategy\n",
    "from utils.misc import load_multi_stock_data\n",
    "\n",
    "stock_list = [\"AAPL\", \"MSFT\", \"GOOGL\"]\n",
    "multi_df = load_multi_stock_data(stock_list)\n",
    "\n",
    "runner = BacktestRunner(momentum_topN_strategy, multi_df, lookback=20, top_n=2)\n",
    "runner.run(plot=True)"
   ]
  },
  {
   "cell_type": "code",
   "execution_count": null,
   "metadata": {},
   "outputs": [],
   "source": [
    "## 混合策略的实现与可视化\n",
    "from utils.basicStrategy import dual_ma_strategy, macd_strategy, rsi_strategy, composite_strategy\n",
    "from utils.basicFeature import basicFeature\n",
    "\n",
    "df = basicFeature.load_data(\"./time-series-data/AABA_2006-01-01_to_2018-01-01.csv\")\n",
    "static_feats = basicFeature.integrate_all_features(\"./time-series-data/AABA_2006-01-01_to_2018-01-01.csv\").iloc[0].to_dict()\n",
    "\n",
    "comp = composite_strategy(df, static_features=static_feats)\n",
    "comp.add_strategy(dual_ma_strategy, weight=1.0, short_window=10, long_window=30)\n",
    "comp.add_strategy(macd_strategy, weight=1.0)\n",
    "comp.add_strategy(rsi_strategy, weight=1.0)\n",
    "\n",
    "comp.strategy()\n",
    "# comp.plot_results()\n",
    "print(comp.evaluate_performance())"
   ]
  },
  {
   "cell_type": "code",
   "execution_count": null,
   "metadata": {},
   "outputs": [],
   "source": [
    "## 其余策略的实现(PPT中给出的所有方法在basicStrategy.py中均有实现，这里只是给一个macd的例子)\n",
    "import glob\n",
    "from utils.BacktestRunner import BacktestRunner\n",
    "from utils.basicFeature import basicFeature\n",
    "from utils.basicStrategy import dual_ma_strategy\n",
    "\n",
    "csv_files = glob.glob(\"./time-series-data/*.csv\")\n",
    "for path in csv_files:\n",
    "    temp = BacktestRunner(macd_strategy, basicFeature.load_data(path))\n",
    "    temp.run(plot=False)"
   ]
  }
 ],
 "metadata": {
  "kernelspec": {
   "display_name": "universal",
   "language": "python",
   "name": "python3"
  },
  "language_info": {
   "codemirror_mode": {
    "name": "ipython",
    "version": 3
   },
   "file_extension": ".py",
   "mimetype": "text/x-python",
   "name": "python",
   "nbconvert_exporter": "python",
   "pygments_lexer": "ipython3",
   "version": "3.13.2"
  }
 },
 "nbformat": 4,
 "nbformat_minor": 2
}

{
 "cells": [
  {
   "cell_type": "code",
   "execution_count": null,
   "metadata": {},
   "outputs": [],
   "source": [
    "import glob\n",
    "from utils.BacktestRunner import BacktestRunner\n",
    "from utils.basicFeature import basicFeature\n",
    "from utils.basicStrategy import dual_ma_strategy\n",
    "\n",
    "csv_files = glob.glob(\"./time-series-data/*.csv\")\n",
    "for path in csv_files:\n",
    "    temp = BacktestRunner(dual_ma_strategy, basicFeature.load_data(path), short_window=10, long_window=30)\n",
    "    temp.run(plot=True)"
   ]
  },
  {
   "cell_type": "code",
   "execution_count": null,
   "metadata": {},
   "outputs": [],
   "source": []
  }
 ],
 "metadata": {
  "kernelspec": {
   "display_name": "universal",
   "language": "python",
   "name": "python3"
  },
  "language_info": {
   "codemirror_mode": {
    "name": "ipython",
    "version": 3
   },
   "file_extension": ".py",
   "mimetype": "text/x-python",
   "name": "python",
   "nbconvert_exporter": "python",
   "pygments_lexer": "ipython3",
   "version": "3.13.2"
  }
 },
 "nbformat": 4,
 "nbformat_minor": 2
}

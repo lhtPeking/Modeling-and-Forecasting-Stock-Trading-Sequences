{
 "cells": [
  {
   "cell_type": "code",
   "execution_count": 1,
   "metadata": {},
   "outputs": [
    {
     "data": {
      "text/plain": [
       "{'AvgReturn': np.float64(0.00046776334751751563),\n",
       " 'Volatility': 0.024343510513038555,\n",
       " 'SharpeRatio': np.float64(0.019215114733225444),\n",
       " 'MDD': -0.793873790879779,\n",
       " 'Skewness': np.float64(2.0014214154758183),\n",
       " 'Kurtosis': np.float64(56.23659815632061)}"
      ]
     },
     "execution_count": 1,
     "metadata": {},
     "output_type": "execute_result"
    }
   ],
   "source": [
    "from utils.basicFeature import basicFeature\n",
    "basicFeature.integrate_all_features(\"./time-series-data/AABA_2006-01-01_to_2018-01-01.csv\")"
   ]
  }
 ],
 "metadata": {
  "kernelspec": {
   "display_name": "universal",
   "language": "python",
   "name": "python3"
  },
  "language_info": {
   "codemirror_mode": {
    "name": "ipython",
    "version": 3
   },
   "file_extension": ".py",
   "mimetype": "text/x-python",
   "name": "python",
   "nbconvert_exporter": "python",
   "pygments_lexer": "ipython3",
   "version": "3.13.2"
  }
 },
 "nbformat": 4,
 "nbformat_minor": 2
}
